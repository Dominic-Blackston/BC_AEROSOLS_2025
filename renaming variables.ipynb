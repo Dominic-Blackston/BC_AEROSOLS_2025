{
 "cells": [
  {
   "cell_type": "code",
   "execution_count": 44,
   "metadata": {},
   "outputs": [],
   "source": [
    "import icartt\n",
    "import pandas as pd\n",
    "import numpy as np\n",
    "import datetime"
   ]
  },
  {
   "cell_type": "code",
   "execution_count": 32,
   "metadata": {},
   "outputs": [],
   "source": [
    "#if not looping\n",
    "filebeginning = \"C:/Users/cphal/OneDrive/Desktop/Aerosols/Module C/Input/\"\n",
    "filename = filebeginning + \"ACTIVATE-LARGE-OPTICAL_HU25_20220618_R2.ict\""
   ]
  },
  {
   "cell_type": "code",
   "execution_count": 3,
   "metadata": {},
   "outputs": [],
   "source": [
    "#define instrument dictionaries\n",
    "instruments = {'METADATA':['Hskping','MMS-1HZ','SUMMARY','MetNav','reveal','CAS'],\n",
    "               'cloud_CPD':['CDP'],\n",
    "               'cloud_CPSPD':['CPSPD'],\n",
    "                'CCN':['CCN'],\n",
    "                'LAS':['LAS'],\n",
    "                'CNC':['CNC','MICROPHYSICAL','AerosolCloudConc'],\n",
    "                'OPTICAL':['OPTICAL','EXT','ABS']\n",
    "              }\n",
    "\n",
    "campaigns = ['FIREX','KORUS','CAMP2EX','SEAC4RS','DC3','ACTIVATE','DISCOVER','NAAMES']\n",
    "\n",
    "optical_variables = {'scat_blue' : ['totSC450_stdPT','Sc450_total','Scat450tot','drySC450_stdPT','Scat_blue_dry_TSI3563_LARGE'],\n",
    "            'scat_green' : ['totSC550_stdPT','Sc550_total','Scat550tot','drySC550_stdPT','Scat_green_dry_TSI3563_LARGE'], \n",
    "            'scat_red' : ['totSC700_stdPT','Sc700_total','Scat700tot','drySC700_stdPT','Scat_red_dry_TSI3563_LARGE'],\n",
    "            'abs_blue': ['Abs470_stdPT','Abs470_total','Abs470tot','Abs_blue_dry_PSAP_LARGE'],\n",
    "            'abs_green' : ['Abs532_stdPT','Abs532_total','Abs532tot','Abs_green_dry_PSAP_LARGE'],\n",
    "            'abs_red' : ['Abs660_stdPT','Abs660_total','Abs660tot','Abs_red_dry_PSAP_LARGE']\n",
    "            }\n",
    "\n",
    "meta_variables = {'lat' : ['Latitude','G_LAT'],\n",
    "                  'long' : ['Longitude','G_LONG'],\n",
    "                  'GPS_Altitude': ['MSL_GPS_Altitude','GPS_Altitude','G_ALT'],\n",
    "                  'Pressure_Altitude': ['Pressure_Altitude',],\n",
    "                  'Static_Air_Temp': ['Static_Air_Temp','T'],\n",
    "                  'RH' : ['Relative_Humidity','Relative_Humidity_H2O','RHw'],\n",
    "                  'Static_Pressure' : ['Static_Pressure','P']\n",
    "                  }\n",
    "\n",
    "cngt_variables = {'CNgt3nm':['CNgt3nm','CNgt3nm_stdPT'],\n",
    "                  'CNgt10nm':['CNgt10nm','CNgt10nm_stdPT'],\n",
    "                  'CNgt10nm_nonvol':['CNgt10nm_nonvol','CNgt10nm_nonvol_stdPT']}\n",
    "\n",
    "lwc_variables = {'LWC' : ['LWC','LWC_CAS','LWC_gm3']}\n",
    "\n",
    "stdpt = {'stdPT' : ['stdPT','stdpt']}\n",
    "\n",
    "cloud_flag = {'Cloud_Flag': ['Cloud_Flag','CloudIndicator','Cloud']}\n",
    "\n",
    "cloud_conc = {'cloud_number' : ['Number_Concentration_STP','N_CCN_stdPT']}\n"
   ]
  },
  {
   "cell_type": "code",
   "execution_count": 33,
   "metadata": {},
   "outputs": [],
   "source": [
    "#Function purpose: find new filename\n",
    "#Inputs:        filename: name of the file we are analyzing\n",
    "#               instruments: list of the instruments\n",
    "#               campaigns: list of the campaigns\n",
    "#Returns:       tuple with campaign name and instrument name\n",
    "def find_new_name(filename,instruments,campaigns):\n",
    "    inst = ''\n",
    "    camp = ''\n",
    "    for key in instruments.keys():\n",
    "        l = instruments.get(key)\n",
    "        for word in l:\n",
    "            if word in filename.upper(): inst = key\n",
    "    if(len(inst)==0): print('ERROR: instrument not found')\n",
    "\n",
    "    for c in campaigns:\n",
    "        if c in filename.upper(): camp = c\n",
    "    if(len(camp)==0): print('ERROR: campaign not found')\n",
    "\n",
    "    return((camp,inst))\n",
    "\n",
    "fileinfo = find_new_name(filename,instruments,campaigns)\n",
    "newname = fileinfo[0]+'_'+fileinfo[1]+'_'"
   ]
  },
  {
   "cell_type": "code",
   "execution_count": null,
   "metadata": {},
   "outputs": [],
   "source": [
    "#load in ict file to python\n",
    "ict = icartt.Dataset(filename)\n",
    "df = ict.data[:]\n",
    "\n",
    "df = pd.DataFrame(df)\n",
    "\n",
    "varnames = [x for x in ict.variables]"
   ]
  },
  {
   "cell_type": "code",
   "execution_count": 41,
   "metadata": {},
   "outputs": [],
   "source": [
    "#example: looking at optical stuff\n",
    "dictionary = optical_variables\n",
    "\n",
    "#get the variables we want\n",
    "columns_we_want = []\n",
    "for x in varnames:\n",
    "    for key in dictionary.keys():\n",
    "        l = dictionary.get(key)\n",
    "        for word in l:\n",
    "            if word == x: \n",
    "                columns_we_want.append(key)\n",
    "                df.rename(columns={word:key},inplace=True)\n",
    "#we always want stdPT so add that too\n",
    "if 'stdPT' in varnames:\n",
    "    columns_we_want.append(varnames)"
   ]
  },
  {
   "cell_type": "code",
   "execution_count": null,
   "metadata": {},
   "outputs": [],
   "source": [
    "#reformat date and time\n",
    "date_time = ict.times\n",
    "datetimedf = pd.DataFrame(date_time, columns= ['datetime'])\n",
    "date = str(date_time[0])\n",
    "date = datetime.datetime.strptime(date, '%Y-%m-%dT%H:%M:%S.%f000').strftime('%Y_%m_%d')\n",
    "datetimedf"
   ]
  },
  {
   "cell_type": "code",
   "execution_count": null,
   "metadata": {},
   "outputs": [],
   "source": [
    "#create new dataframe\n",
    "new_df = datetimedf\n",
    "new_df[columns_we_want] = df[columns_we_want]"
   ]
  }
 ],
 "metadata": {
  "kernelspec": {
   "display_name": "Python 3",
   "language": "python",
   "name": "python3"
  },
  "language_info": {
   "codemirror_mode": {
    "name": "ipython",
    "version": 3
   },
   "file_extension": ".py",
   "mimetype": "text/x-python",
   "name": "python",
   "nbconvert_exporter": "python",
   "pygments_lexer": "ipython3",
   "version": "3.11.3"
  }
 },
 "nbformat": 4,
 "nbformat_minor": 2
}
