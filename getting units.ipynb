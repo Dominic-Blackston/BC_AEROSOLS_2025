{
 "cells": [
  {
   "cell_type": "code",
   "execution_count": 200,
   "metadata": {},
   "outputs": [],
   "source": [
    "import icartt\n",
    "import pandas as pd\n",
    "import numpy as np\n",
    "import datetime\n",
    "from math import pi\n",
    "\n",
    "filename = 'C:/Users/cphal/OneDrive/Desktop/MAC prediction model/FIREXAQ-LARGE-CDP_DC8_20190722_R0.ict'\n",
    "\n",
    " # Initialize a translation table to remove non-numeric characters\n",
    "translation_table = str.maketrans('','','abcdefghijklmnopqrstuvwxyzABCDEFGHIJKLMNOPQRSTUVWXYZ!\"#$%&\\'()*+,-/:;<=>?@[\\\\]^_`{|}~\\t')"
   ]
  },
  {
   "cell_type": "code",
   "execution_count": 125,
   "metadata": {},
   "outputs": [],
   "source": [
    "#load in ict file to python\n",
    "ict = icartt.Dataset(filename)\n",
    "df = ict.data[:]\n",
    "\n",
    "#get variable names and create dataframe based on this\n",
    "varnames = [x for x in ict.variables]\n",
    "df = pd.DataFrame(df, columns = varnames)"
   ]
  },
  {
   "cell_type": "code",
   "execution_count": 134,
   "metadata": {},
   "outputs": [],
   "source": [
    "#get units from file\n",
    "def get_unit_info(varnames,ict):\n",
    "    varDf = pd.DataFrame(columns=['var_name','unit','descr','descr_long'])\n",
    "\n",
    "    #split rows of data and put into df\n",
    "    for x in varnames:\n",
    "        var = str(ict.variables[x])\n",
    "        varAr = var.split(',')\n",
    "        while len(varAr) < 4:\n",
    "            varAr.append('')\n",
    "        varDf.loc[len(varDf)] = varAr\n",
    "    \n",
    "    return varDf\n",
    "    "
   ]
  },
  {
   "cell_type": "code",
   "execution_count": 132,
   "metadata": {},
   "outputs": [],
   "source": [
    "#alternative method of getting diameters\n",
    "\n",
    "def get_diameters_listed(filename):\n",
    "\n",
    "    #read lines until line contains 'diameters'\n",
    "    f = open(filename)\n",
    "    nextline = f.readline()\n",
    "    while ('diameter' not in nextline):\n",
    "        nextline = f.readline()\n",
    "    #then get list of diameters\n",
    "    diameters = nextline.split(',')\n",
    "    firstline = diameters[0].split()\n",
    "    first_diam = firstline[len(firstline) - 1]\n",
    "    diameters[0] = first_diam\n",
    "    del diameters['\\n']\n",
    "\n",
    "    return diameters"
   ]
  },
  {
   "cell_type": "code",
   "execution_count": 135,
   "metadata": {},
   "outputs": [],
   "source": [
    "#create new dataframe to store info about variables\n",
    "def get_diameters_in_header(varnames, ict):\n",
    "    varDf = get_unit_info(varnames,ict)\n",
    "\n",
    "    #get numeric values\n",
    "    diamAr = []\n",
    "    for row in range(len(varDf)):\n",
    "        long_desc = varDf.iloc[row][3]\n",
    "        diam = ''\n",
    "        #print(long_desc)\n",
    "        # Use str.translate() with the translation table to remove non-numeric characters\n",
    "        numeric_string = long_desc.translate(translation_table)\n",
    "        numeric_string.replace(' ','')\n",
    "        diamAr.append(numeric_string)\n",
    "\n",
    "    #strip whitespace\n",
    "    diamAr = [i.strip() for i in diamAr]\n",
    "\n",
    "    #add to dataframe\n",
    "    varDf['Diameters'] = diamAr\n",
    "\n",
    "    #find which rows contain 'bin'\n",
    "    mask = varDf['descr_long'].apply(lambda x: 'bin' not in x)\n",
    "\n",
    "    #filtered_var_df = varDf.filter(mask)\n",
    "\n",
    "    diameters = varDf['Diameters'].mask(mask)\n",
    "    diameters = diameters.dropna()\n",
    "\n",
    "    return diameters\n"
   ]
  },
  {
   "cell_type": "code",
   "execution_count": 189,
   "metadata": {},
   "outputs": [],
   "source": [
    "#function purpose: get list of dN1, dN2, dV1, dV2\n",
    "#FIXME: look up what these are actually supposed to be?\n",
    "\n",
    "def get_inputs(dNx, dVx):\n",
    "    bin_num = input('How many bins?')\n",
    "    bin_num = int(bin_num)\n",
    "\n",
    "    #loop through dividers\n",
    "    for i in (range(bin_num-1)):\n",
    "        #get value for #FIXME dN\n",
    "        dNi = input('Value for dN' + str(i+1))\n",
    "        dNi = float(dNi)\n",
    "        dNx.append(dNi)\n",
    "\n",
    "        #get value for #FIXME dN\n",
    "        dVi = input('Value for dV' + str(i+1))\n",
    "        dVi = float(dVi)\n",
    "        dVx.append(dVi)"
   ]
  },
  {
   "cell_type": "code",
   "execution_count": null,
   "metadata": {},
   "outputs": [],
   "source": [
    "#get variable info\n",
    "varDf = get_unit_info(varnames,ict)\n",
    "\n",
    "#get variable names that have bins\n",
    "mask = varDf['var_name'].apply(lambda x: 'bin' in x.lower())\n",
    "\n",
    "#put them into a dataframe\n",
    "binnames = varDf['var_name'].loc[mask]\n",
    "size_dist_input_original = df[binnames]\n",
    "\n",
    "#transpose size_dist_input to get it to work with Module A\n",
    "size_dist_input = pd.DataFrame.transpose(size_dist_input_original)\n",
    "\n",
    "#create new vector to hold column names\n",
    "ser=pd.Series(range(np.size(size_dist_input,1)))\n",
    "#assign this to be the columns\n",
    "size_dist_input.rename(columns = ser)"
   ]
  },
  {
   "cell_type": "code",
   "execution_count": 191,
   "metadata": {},
   "outputs": [],
   "source": [
    "#create list to hold input values\n",
    "d_Nx_list = []\n",
    "d_Vx_list = []\n",
    "get_inputs(d_Nx_list, d_Vx_list)"
   ]
  },
  {
   "cell_type": "code",
   "execution_count": 165,
   "metadata": {},
   "outputs": [
    {
     "data": {
      "text/plain": [
       "[2, 4]"
      ]
     },
     "execution_count": 165,
     "metadata": {},
     "output_type": "execute_result"
    }
   ],
   "source": [
    "d_Vx_list"
   ]
  },
  {
   "cell_type": "code",
   "execution_count": 155,
   "metadata": {},
   "outputs": [],
   "source": [
    "date_time = ict.times\n",
    "datetimedf = pd.DataFrame(date_time, columns= ['datetime'])\n",
    "num1 = str(date_time[0])\n",
    "dateparse = lambda x: datetime.strptime(x, '%Y-%m-%dT%H:%M:%S.000000000')"
   ]
  },
  {
   "cell_type": "code",
   "execution_count": 202,
   "metadata": {},
   "outputs": [],
   "source": [
    "#FIXME: check either method based on file beginning; create system for this\n",
    "size_dist_diameter_input = pd.Series(get_diameters_in_header(varnames,ict))\n",
    "size_dist_diameter_input.reset_index(drop=True)\n",
    "size_dist_diameter_input = size_dist_diameter_input.astype(float)"
   ]
  },
  {
   "cell_type": "code",
   "execution_count": 204,
   "metadata": {},
   "outputs": [
    {
     "name": "stdout",
     "output_type": "stream",
     "text": [
      "[1.0, 3.0] [2.0, 4.0] 49.0\n",
      "violation of: d_N1 < size_dist_diameter_input[0]\n",
      "violation of: d_V1 < size_dist_diameter_input[0]\n"
     ]
    }
   ],
   "source": [
    "# If the selected size classes are broader than the measured aerosol sizes \n",
    "print (d_Nx_list, d_Vx_list,size_dist_diameter_input.iloc[len(size_dist_diameter_input)-1])\n",
    "if (d_Nx_list[0] < size_dist_diameter_input.iloc[0]):  #only large particles is available\n",
    "    N1=0; F_N1=0  \n",
    "    print(\"violation of: d_N1 < size_dist_diameter_input[0]\")\n",
    "if (d_Nx_list[len(d_Nx_list)-1] > size_dist_diameter_input.iloc[len(size_dist_diameter_input)-1]):  #only small particles is available\n",
    "    N3=0; F_N3=0\n",
    "    print(\"violation of: d_N2 > size_dist_diameter_input[len(size_dist_diameter_input)-1]\")\n",
    "if (d_Vx_list[0] < size_dist_diameter_input.iloc[0]):\n",
    "    V1=0; F_V1=0\n",
    "    print(\"violation of: d_V1 < size_dist_diameter_input[0]\")\n",
    "if (d_Vx_list[len(d_Vx_list)-1] > size_dist_diameter_input.iloc[len(size_dist_diameter_input)-1]):\n",
    "    V3=0; F_V=0\n",
    "    print(\"violation of: d_V2 > size_dist_diameter_input[len(size_dist_diameter_input)-1]\")"
   ]
  },
  {
   "cell_type": "code",
   "execution_count": 205,
   "metadata": {},
   "outputs": [],
   "source": [
    "#calculate dVdlogdP using dNdlogdP\n",
    "diameter_power = np.power(size_dist_diameter_input, 3)\n",
    "diameter_power = diameter_power.to_numpy()\n",
    "size_dist_volume = pi/6*size_dist_input.mul(diameter_power,axis='index')"
   ]
  }
 ],
 "metadata": {
  "kernelspec": {
   "display_name": "Python 3",
   "language": "python",
   "name": "python3"
  },
  "language_info": {
   "codemirror_mode": {
    "name": "ipython",
    "version": 3
   },
   "file_extension": ".py",
   "mimetype": "text/x-python",
   "name": "python",
   "nbconvert_exporter": "python",
   "pygments_lexer": "ipython3",
   "version": "3.11.3"
  },
  "orig_nbformat": 4
 },
 "nbformat": 4,
 "nbformat_minor": 2
}
